{
 "cells": [
  {
   "cell_type": "markdown",
   "metadata": {},
   "source": [
    "### 2 SUM\n",
    "Given an array of integers, return indices of the two numbers such that they add up to a specific target.\n",
    "You may assume that each input would have exactly one solution, and you may not use the same element twice."
   ]
  },
  {
   "cell_type": "code",
   "execution_count": 16,
   "metadata": {},
   "outputs": [
    {
     "name": "stdout",
     "output_type": "stream",
     "text": [
      "(1, 2)\n"
     ]
    }
   ],
   "source": [
    "class Solution(object):\n",
    "    def twoSum(self, nums, target):\n",
    "        \"\"\"\n",
    "        :type nums: List[int]\n",
    "        :type target: int\n",
    "        :rtype: List[int]\n",
    "        \"\"\"\n",
    "        for i in range(len(nums)):\n",
    "            temp = target-nums[i]\n",
    "            for j in range(i+1,len(nums)):\n",
    "                if nums[j] == temp:\n",
    "                    return i,j\n",
    "if __name__=='__main__':\n",
    "    sol = Solution()\n",
    "    print(sol.twoSum([3,2,4],6))"
   ]
  },
  {
   "cell_type": "markdown",
   "metadata": {},
   "source": [
    "### Given a 32-bit signed integer, reverse digits of an integer."
   ]
  },
  {
   "cell_type": "code",
   "execution_count": 21,
   "metadata": {},
   "outputs": [
    {
     "name": "stdout",
     "output_type": "stream",
     "text": [
      "321\n",
      "-123\n"
     ]
    }
   ],
   "source": [
    "class Solution(object):\n",
    "    def reverse(self, x):\n",
    "        \"\"\"\n",
    "        :type x: int\n",
    "        :rtype: int\n",
    "        \"\"\"\n",
    "        if x < 0:\n",
    "            return -self.reverse(-x)\n",
    "\n",
    "        result = 0\n",
    "        while x:\n",
    "            result = result * 10 + x % 10\n",
    "            x //= 10\n",
    "        return result if result <= 0x7fffffff else 0  # Handle overflow.\n",
    "    \n",
    "    def reverse2(self, x):\n",
    "        \"\"\"\n",
    "        :type x: int\n",
    "        :rtype: int\n",
    "        \"\"\"\n",
    "        if x < 0:\n",
    "            x = int(str(x)[::-1][-1] + str(x)[::-1][:-1])\n",
    "        else:\n",
    "            x = int(str(x)[::-1])\n",
    "        x = 0 if abs(x) > 0x7FFFFFFF else x\n",
    "        return x\n",
    "\n",
    "\n",
    "if __name__ == \"__main__\":\n",
    "    print(Solution().reverse(123))\n",
    "    print(Solution().reverse(-321))"
   ]
  },
  {
   "cell_type": "markdown",
   "metadata": {},
   "source": [
    "### Determine whether an integer is a palindrome. Do this without extra space. "
   ]
  },
  {
   "cell_type": "code",
   "execution_count": 23,
   "metadata": {},
   "outputs": [
    {
     "name": "stdout",
     "output_type": "stream",
     "text": [
      "True\n"
     ]
    }
   ],
   "source": [
    "class Solution:\n",
    "    def reverse(self, x):\n",
    "        \"\"\"\n",
    "        :type x: int\n",
    "        :rtype: int\n",
    "        \"\"\"\n",
    "        if x < 0:\n",
    "            return -self.reverse(-x)\n",
    "\n",
    "        result = 0\n",
    "        while x:\n",
    "            result = result * 10 + x % 10\n",
    "            x //= 10\n",
    "        return result if result <= 0x7fffffff else 0  # Handle overflow.\n",
    "    \n",
    "    def isPalindrome(self, x):\n",
    "        \"\"\"\n",
    "        :type x: int\n",
    "        :rtype: bool\n",
    "        \"\"\"\n",
    "        if x<0:\n",
    "            return False\n",
    "        y = Solution().reverse(x)\n",
    "        return x==y\n",
    "if __name__=='__main__':\n",
    "    print(Solution().isPalindrome(123321))"
   ]
  },
  {
   "cell_type": "markdown",
   "metadata": {},
   "source": [
    "### Roman Numerals to Numbers (0 to 3999)  "
   ]
  },
  {
   "cell_type": "code",
   "execution_count": 89,
   "metadata": {
    "collapsed": true
   },
   "outputs": [],
   "source": [
    "class Stack:\n",
    "        def __init__(self):\n",
    "            self.items = []\n",
    "\n",
    "        def push(self, item):\n",
    "            self.items.append(item)\n",
    "\n",
    "        def pop(self):\n",
    "            return self.items.pop()\n",
    "\n",
    "        def is_empty(self):\n",
    "            return (self.items == [])\n",
    "class Solution:        \n",
    "    def romanToInt(self, s):\n",
    "        letters = {'I':1,'V':5,'X':10,'L':50,'C':100,'D':500,'M':1000}\n",
    "        stack=Stack()\n",
    "        for c in str(s):\n",
    "            stack.push(c)\n",
    "        num = 0\n",
    "        while not stack.is_empty():\n",
    "            temp1 = stack.pop()\n",
    "            num1 = letters[temp1]\n",
    "            if stack.is_empty():\n",
    "                temp2 = None\n",
    "                num2=0\n",
    "            else:\n",
    "                temp2 = str(stack.pop())\n",
    "                num2 = letters[temp2]\n",
    "            if num1>num2:\n",
    "                num+=num1-num2\n",
    "            else:\n",
    "                stack.push(temp2)\n",
    "                num+=num1\n",
    "        return(num)\n",
    "\n",
    "class Solution2:\n",
    "    # @return an integer\n",
    "    def romanToInt(self, s):\n",
    "        numeral_map = {\"I\": 1, \"V\": 5, \"X\": 10, \"L\": 50, \"C\":100, \"D\": 500, \"M\": 1000}\n",
    "        decimal = 0\n",
    "        for i in xrange(len(s)):\n",
    "            if i > 0 and numeral_map[s[i]] > numeral_map[s[i - 1]]:\n",
    "                decimal += numeral_map[s[i]] - 2 * numeral_map[s[i - 1]]\n",
    "            else:\n",
    "                decimal += numeral_map[s[i]]\n",
    "        return decimal"
   ]
  },
  {
   "cell_type": "code",
   "execution_count": 91,
   "metadata": {},
   "outputs": [
    {
     "name": "stdout",
     "output_type": "stream",
     "text": [
      "3499\n"
     ]
    }
   ],
   "source": [
    "if __name__=='__main__':\n",
    "    sol = Solution()\n",
    "    print(sol.romanToInt(\"MMMCDXCIX\"))"
   ]
  },
  {
   "cell_type": "markdown",
   "metadata": {},
   "source": [
    "###  Longest Common Prefix\n",
    "Write a function to find the longest common prefix string amongst an array of strings."
   ]
  },
  {
   "cell_type": "code",
   "execution_count": 97,
   "metadata": {},
   "outputs": [
    {
     "name": "stdout",
     "output_type": "stream",
     "text": [
      "he\n"
     ]
    }
   ],
   "source": [
    "class Solution(object):\n",
    "    def longestCommonPrefix(self, strs):\n",
    "        \"\"\"\n",
    "        :type strs: List[str]\n",
    "        :rtype: str\n",
    "        \"\"\"\n",
    "        if not strs:\n",
    "            return \"\"\n",
    "\n",
    "        for i in range(len(strs[0])):\n",
    "            for string in strs[1:]:\n",
    "                if i >= len(string) or string[i] != strs[0][i]:\n",
    "                    return strs[0][:i]\n",
    "        return strs[0]\n",
    "\n",
    "\n",
    "if __name__ == \"__main__\":\n",
    "    sol = Solution()\n",
    "    print(sol.longestCommonPrefix([\"hello\", \"heaven\", \"heavy\"]))"
   ]
  }
 ],
 "metadata": {
  "kernelspec": {
   "display_name": "Python 3",
   "language": "python",
   "name": "python3"
  },
  "language_info": {
   "codemirror_mode": {
    "name": "ipython",
    "version": 3
   },
   "file_extension": ".py",
   "mimetype": "text/x-python",
   "name": "python",
   "nbconvert_exporter": "python",
   "pygments_lexer": "ipython3",
   "version": "3.6.3"
  }
 },
 "nbformat": 4,
 "nbformat_minor": 2
}
