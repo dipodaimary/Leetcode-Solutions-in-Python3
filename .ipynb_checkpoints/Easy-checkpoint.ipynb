{
 "cells": [
  {
   "cell_type": "markdown",
   "metadata": {},
   "source": [
    "### 2 SUM\n",
    "Given an array of integers, return indices of the two numbers such that they add up to a specific target.\n",
    "You may assume that each input would have exactly one solution, and you may not use the same element twice."
   ]
  },
  {
   "cell_type": "code",
   "execution_count": 16,
   "metadata": {},
   "outputs": [
    {
     "name": "stdout",
     "output_type": "stream",
     "text": [
      "(1, 2)\n"
     ]
    }
   ],
   "source": [
    "class Solution(object):\n",
    "    def twoSum(self, nums, target):\n",
    "        \"\"\"\n",
    "        :type nums: List[int]\n",
    "        :type target: int\n",
    "        :rtype: List[int]\n",
    "        \"\"\"\n",
    "        for i in range(len(nums)):\n",
    "            temp = target-nums[i]\n",
    "            for j in range(i+1,len(nums)):\n",
    "                if nums[j] == temp:\n",
    "                    return i,j\n",
    "if __name__=='__main__':\n",
    "    sol = Solution()\n",
    "    print(sol.twoSum([3,2,4],6))"
   ]
  },
  {
   "cell_type": "markdown",
   "metadata": {},
   "source": [
    "### Given a 32-bit signed integer, reverse digits of an integer."
   ]
  },
  {
   "cell_type": "code",
   "execution_count": 20,
   "metadata": {},
   "outputs": [
    {
     "name": "stdout",
     "output_type": "stream",
     "text": [
      "321\n",
      "-123\n"
     ]
    }
   ],
   "source": [
    "class Solution(object):\n",
    "    def reverse(self, x):\n",
    "        \"\"\"\n",
    "        :type x: int\n",
    "        :rtype: int\n",
    "        \"\"\"\n",
    "        if x < 0:\n",
    "            return -self.reverse(-x)\n",
    "\n",
    "        result = 0\n",
    "        while x:\n",
    "            result = result * 10 + x % 10\n",
    "            x //= 10\n",
    "        return result if result <= 0x7fffffff else 0  # Handle overflow.\n",
    "    \n",
    "    def reverse2(self, x):\n",
    "        \"\"\"\n",
    "        :type x: int\n",
    "        :rtype: int\n",
    "        \"\"\"\n",
    "        if x < 0:\n",
    "            x = int(str(x)[::-1][-1] + str(x)[::-1][:-1])\n",
    "        else:\n",
    "            x = int(str(x)[::-1])\n",
    "        x = 0 if abs(x) > 0x7FFFFFFF else x\n",
    "        return x\n",
    "\n",
    "\n",
    "if __name__ == \"__main__\":\n",
    "    print(Solution().reverse(123))\n",
    "    print(Solution().reverse(-321))"
   ]
  }
 ],
 "metadata": {
  "kernelspec": {
   "display_name": "Python 3",
   "language": "python",
   "name": "python3"
  },
  "language_info": {
   "codemirror_mode": {
    "name": "ipython",
    "version": 3
   },
   "file_extension": ".py",
   "mimetype": "text/x-python",
   "name": "python",
   "nbconvert_exporter": "python",
   "pygments_lexer": "ipython3",
   "version": "3.6.3"
  }
 },
 "nbformat": 4,
 "nbformat_minor": 2
}
