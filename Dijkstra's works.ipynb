{
 "cells": [
  {
   "cell_type": "markdown",
   "metadata": {},
   "source": [
    "# Collection of Dijkstra's famous work"
   ]
  },
  {
   "cell_type": "markdown",
   "metadata": {},
   "source": [
    "## Dijkstra's graph algorithms"
   ]
  },
  {
   "cell_type": "markdown",
   "metadata": {},
   "source": [
    "### Graph Object"
   ]
  },
  {
   "cell_type": "code",
   "execution_count": 1,
   "metadata": {},
   "outputs": [],
   "source": [
    "from collections import defaultdict\n",
    "import math\n",
    "class Graph(object):\n",
    "    def __init__(self):\n",
    "        self.nodes = set()\n",
    "        self.edges = defaultdict(list)\n",
    "        self.weights = {}\n",
    "    def addNode(self,value):\n",
    "        self.nodes.add(value)\n",
    "    def addEdge(self, u, v, weight):\n",
    "        if u == v:\n",
    "            pass #no cycles allowed\n",
    "        self.edges[u].append(v)\n",
    "        self.weights[(u,v)] = weight\n",
    "    def __str__(self):\n",
    "        string = \"Nodes: \" + str(self.nodes) + \"\\n\"\n",
    "        string += \"Edges: \" + str(self.edges) + \"\\n\"\n",
    "        string += \"Weights: \" + str(self.weights) + \"\\n\"\n",
    "        return string"
   ]
  },
  {
   "cell_type": "markdown",
   "metadata": {},
   "source": [
    "### Dikjtra's algorithm implimentation"
   ]
  },
  {
   "cell_type": "code",
   "execution_count": 2,
   "metadata": {},
   "outputs": [],
   "source": [
    "def dijkstra(graph,start):\n",
    "    S = set()\n",
    "    delta = dict.fromkeys(list(graph.nodes), math.inf)\n",
    "    previous = dict.fromkeys(list(graph.nodes), None)\n",
    "    delta[start] = 0\n",
    "    while S != graph.nodes:\n",
    "        v = min((set(delta.keys())-S),key = delta.get)\n",
    "        for neighbour in set(graph.edges[v]) - S:\n",
    "            new_path = delta[v] + graph.weights[v,neighbour]\n",
    "            if new_path < delta[neighbour]:\n",
    "                delta[neighbour] = new_path\n",
    "                previous[neighbour] = v\n",
    "        S.add(v)\n",
    "    return (delta, previous)\n",
    "def shortestPath(graph,start,end):\n",
    "    delta, previous = dijkstra(graph,start)\n",
    "    path = []\n",
    "    vertex = end\n",
    "    while vertex is not None:\n",
    "        path.append(vertex)\n",
    "        vertex = previous[vertex]\n",
    "        path.reverse()\n",
    "        return path"
   ]
  },
  {
   "cell_type": "markdown",
   "metadata": {},
   "source": [
    "### Driver program"
   ]
  },
  {
   "cell_type": "code",
   "execution_count": 3,
   "metadata": {},
   "outputs": [
    {
     "name": "stdout",
     "output_type": "stream",
     "text": [
      "Nodes: {'a', 'e', 'b', 'd', 'c'}\n",
      "Edges: defaultdict(<class 'list'>, {'a': ['b', 'c', 'd'], 'b': ['c'], 'c': ['e'], 'd': ['e']})\n",
      "Weights: {('a', 'b'): 2, ('a', 'c'): 8, ('a', 'd'): 5, ('b', 'c'): 1, ('c', 'e'): 3, ('d', 'e'): 4}\n",
      "\n",
      "({'a': 0, 'e': 6, 'b': 2, 'd': 5, 'c': 3}, {'a': None, 'e': 'c', 'b': 'a', 'd': 'a', 'c': 'b'})\n",
      "['e']\n"
     ]
    }
   ],
   "source": [
    "if __name__ == \"__main__\":\n",
    "    G = Graph()\n",
    "    G.addNode('a')\n",
    "    G.addNode('b')\n",
    "    G.addNode('c')\n",
    "    G.addNode('d')\n",
    "    G.addNode('e')\n",
    "    G.addEdge('a', 'b', 2)\n",
    "    G.addEdge('a', 'c', 8)\n",
    "    G.addEdge('a', 'd', 5)\n",
    "    G.addEdge('b', 'c', 1)\n",
    "    G.addEdge('c', 'e', 3)\n",
    "    G.addEdge('d', 'e', 4)\n",
    "    print(G) \n",
    "    print(dijkstra(G, 'a'))\n",
    "    print(shortestPath(G, 'a', 'e'))"
   ]
  }
 ],
 "metadata": {
  "kernelspec": {
   "display_name": "Python 3",
   "language": "python",
   "name": "python3"
  },
  "language_info": {
   "codemirror_mode": {
    "name": "ipython",
    "version": 3
   },
   "file_extension": ".py",
   "mimetype": "text/x-python",
   "name": "python",
   "nbconvert_exporter": "python",
   "pygments_lexer": "ipython3",
   "version": "3.7.0"
  }
 },
 "nbformat": 4,
 "nbformat_minor": 2
}
