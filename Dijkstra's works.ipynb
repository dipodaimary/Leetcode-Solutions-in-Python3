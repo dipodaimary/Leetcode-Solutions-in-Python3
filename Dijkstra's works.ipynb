{
 "cells": [
  {
   "cell_type": "markdown",
   "metadata": {},
   "source": [
    "### Collection of Dijkstra's famous work"
   ]
  },
  {
   "cell_type": "markdown",
   "metadata": {},
   "source": [
    "##### Dijkstra's graph algorithms"
   ]
  },
  {
   "cell_type": "code",
   "execution_count": 2,
   "metadata": {},
   "outputs": [],
   "source": [
    "from collections import defaultdict\n",
    "import math\n",
    "class Graph(object):\n",
    "    def __init__(self):\n",
    "        self.nodes = Set()\n",
    "        self.edges = defaultdict(list)\n",
    "        self.weights = {}\n",
    "    def addNode(self,value):\n",
    "        self.nodes.add(value)\n",
    "    def addEdge(self, u, v, weight):\n",
    "        if u == v:\n",
    "            pass #no cycles allowed\n",
    "        self.edges[u].append(v)\n",
    "        self.weights[(u,v)] = weight\n",
    "    def __str__(self):\n",
    "        string = \"Nodes: \" + str(self.nodes) + \"\\n\"\n",
    "        string += \"Edges: \" + str(self.edges) + \"\\n\"\n",
    "        string += \"Weights: \" + str(self.weights) + \"\\n\"\n",
    "        return string"
   ]
  },
  {
   "cell_type": "code",
   "execution_count": null,
   "metadata": {},
   "outputs": [],
   "source": [
    "def dijkstra(graph,start):\n",
    "    S = set()\n",
    "    delta = dict.fromkeys(list(graph.nodes), math.inf)\n",
    "    previous = dict.fromkeys(list(graph.nodes), None)\n",
    "    delta[start] = 0"
   ]
  }
 ],
 "metadata": {
  "kernelspec": {
   "display_name": "Python 3",
   "language": "python",
   "name": "python3"
  },
  "language_info": {
   "codemirror_mode": {
    "name": "ipython",
    "version": 3
   },
   "file_extension": ".py",
   "mimetype": "text/x-python",
   "name": "python",
   "nbconvert_exporter": "python",
   "pygments_lexer": "ipython3",
   "version": "3.7.0"
  }
 },
 "nbformat": 4,
 "nbformat_minor": 2
}
