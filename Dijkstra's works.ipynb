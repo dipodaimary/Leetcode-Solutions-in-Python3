{
 "cells": [
  {
   "cell_type": "markdown",
   "metadata": {},
   "source": [
    "# Collection of Dijkstra's famous work"
   ]
  },
  {
   "cell_type": "markdown",
   "metadata": {},
   "source": [
    "## Dijkstra's graph algorithm:\n",
    "This is an algorithm for finding the shortest paths between nodes in a graph, which may represent, for example, road networks"
   ]
  },
  {
   "cell_type": "markdown",
   "metadata": {},
   "source": [
    "### Graph Object"
   ]
  },
  {
   "cell_type": "code",
   "execution_count": 1,
   "metadata": {},
   "outputs": [],
   "source": [
    "from collections import defaultdict\n",
    "import math\n",
    "class Graph(object):\n",
    "    def __init__(self):\n",
    "        self.nodes = set()\n",
    "        self.edges = defaultdict(list)\n",
    "        self.weights = {}\n",
    "    def addNode(self,value):\n",
    "        self.nodes.add(value)\n",
    "    def addEdge(self, u, v, weight):\n",
    "        if u == v:\n",
    "            pass #no cycles allowed\n",
    "        self.edges[u].append(v)\n",
    "        self.weights[(u,v)] = weight\n",
    "    def __str__(self):\n",
    "        string = \"Nodes: \" + str(self.nodes) + \"\\n\"\n",
    "        string += \"Edges: \" + str(self.edges) + \"\\n\"\n",
    "        string += \"Weights: \" + str(self.weights) + \"\\n\"\n",
    "        return string"
   ]
  },
  {
   "cell_type": "markdown",
   "metadata": {},
   "source": [
    "### Dikjtra's algorithm implimentation"
   ]
  },
  {
   "cell_type": "code",
   "execution_count": 2,
   "metadata": {},
   "outputs": [],
   "source": [
    "def dijkstra(graph,start):\n",
    "    S = set()\n",
    "    delta = dict.fromkeys(list(graph.nodes), math.inf)\n",
    "    previous = dict.fromkeys(list(graph.nodes), None)\n",
    "    delta[start] = 0\n",
    "    while S != graph.nodes:\n",
    "        v = min((set(delta.keys())-S),key = delta.get)\n",
    "        for neighbour in set(graph.edges[v]) - S:\n",
    "            new_path = delta[v] + graph.weights[v,neighbour]\n",
    "            if new_path < delta[neighbour]:\n",
    "                delta[neighbour] = new_path\n",
    "                previous[neighbour] = v\n",
    "        S.add(v)\n",
    "    return (delta, previous)\n",
    "def shortestPath(graph,start,end):\n",
    "    delta, previous = dijkstra(graph,start)\n",
    "    path = []\n",
    "    vertex = end\n",
    "    while vertex is not None:\n",
    "        path.append(vertex)\n",
    "        vertex = previous[vertex]\n",
    "        path.reverse()\n",
    "        return path"
   ]
  },
  {
   "cell_type": "markdown",
   "metadata": {},
   "source": [
    "### Driver program"
   ]
  },
  {
   "cell_type": "code",
   "execution_count": 3,
   "metadata": {},
   "outputs": [
    {
     "name": "stdout",
     "output_type": "stream",
     "text": [
      "Nodes: {'d', 'b', 'c', 'e', 'a'}\n",
      "Edges: defaultdict(<class 'list'>, {'a': ['b', 'c', 'd'], 'b': ['c'], 'c': ['e'], 'd': ['e']})\n",
      "Weights: {('a', 'b'): 2, ('a', 'c'): 8, ('a', 'd'): 5, ('b', 'c'): 1, ('c', 'e'): 3, ('d', 'e'): 4}\n",
      "\n",
      "({'d': 5, 'b': 2, 'c': 3, 'e': 6, 'a': 0}, {'d': 'a', 'b': 'a', 'c': 'b', 'e': 'c', 'a': None})\n",
      "['e']\n"
     ]
    }
   ],
   "source": [
    "if __name__ == \"__main__\":\n",
    "    G = Graph()\n",
    "    G.addNode('a')\n",
    "    G.addNode('b')\n",
    "    G.addNode('c')\n",
    "    G.addNode('d')\n",
    "    G.addNode('e')\n",
    "    G.addEdge('a', 'b', 2)\n",
    "    G.addEdge('a', 'c', 8)\n",
    "    G.addEdge('a', 'd', 5)\n",
    "    G.addEdge('b', 'c', 1)\n",
    "    G.addEdge('c', 'e', 3)\n",
    "    G.addEdge('d', 'e', 4)\n",
    "    print(G) \n",
    "    print(dijkstra(G, 'a'))\n",
    "    print(shortestPath(G, 'a', 'e'))"
   ]
  },
  {
   "cell_type": "markdown",
   "metadata": {},
   "source": [
    "### DJP aks Prim's algorithm\n",
    "This is a greedy algorithm that finds a minimum spanning tree for a weighted undirected graph. This means it finds a subset of the edges that forms a tree that includes every vertex, where the total weight of all the edges in the tree is minimized. "
   ]
  },
  {
   "cell_type": "code",
   "execution_count": 4,
   "metadata": {},
   "outputs": [],
   "source": [
    "def prim(G,start):\n",
    "    MST = set()\n",
    "    vistedNodes = set()\n",
    "    vistedNodes.add(start)\n",
    "    while len(vistedNodes) != len(G.nodes):\n",
    "        crossing = set()\n",
    "        for n1 in vistedNodes:\n",
    "            for n2 in G.nodes:\n",
    "                if (n2 not in vistedNodes) and ((n1,n2) in G.weights) and (G.weights[(n1,n2)] != 0):\n",
    "                    crossing.add((n1,n2))\n",
    "        #sort all the edges in graph G by weights from smalles to larges\n",
    "        sorted_edges = sorted(crossing, key = lambda e: G.weights[e]) #functional way\n",
    "        MST.add(sorted_edges[0])\n",
    "        vistedNodes.add(sorted_edges[0][1])\n",
    "    return MST"
   ]
  },
  {
   "cell_type": "code",
   "execution_count": 5,
   "metadata": {},
   "outputs": [
    {
     "data": {
      "text/plain": [
       "{('a', 'b'), ('a', 'd'), ('b', 'c'), ('c', 'e')}"
      ]
     },
     "execution_count": 5,
     "metadata": {},
     "output_type": "execute_result"
    }
   ],
   "source": [
    "prim(G,'a')"
   ]
  }
 ],
 "metadata": {
  "kernelspec": {
   "display_name": "Python 3",
   "language": "python",
   "name": "python3"
  },
  "language_info": {
   "codemirror_mode": {
    "name": "ipython",
    "version": 3
   },
   "file_extension": ".py",
   "mimetype": "text/x-python",
   "name": "python",
   "nbconvert_exporter": "python",
   "pygments_lexer": "ipython3",
   "version": "3.7.0"
  }
 },
 "nbformat": 4,
 "nbformat_minor": 2
}
